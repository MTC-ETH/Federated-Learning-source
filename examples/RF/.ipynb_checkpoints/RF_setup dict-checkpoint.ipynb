{
 "cells": [
  {
   "cell_type": "code",
   "execution_count": 1,
   "metadata": {},
   "outputs": [
    {
     "name": "stdout",
     "output_type": "stream",
     "text": [
      "/home/schneebi/PycharmProjects/federated-learning/Federated-Learning\n"
     ]
    },
    {
     "name": "stderr",
     "output_type": "stream",
     "text": [
      "2020-05-15 10:46:09,331 [MainProcess ] [INFO ] [OPERATOR] [test_class.py / kill_servers / 194] KILLING SERVERS\n",
      "2020-05-15 10:46:09,332 [MainProcess ] [INFO ] [OPERATOR] [test_class.py / kill_global_server / 156] KILLING GLOBAL SERVER\n",
      "2020-05-15 10:46:09,332 [MainProcess ] [INFO ] [OPERATOR] [test_class.py / kill_client_interface_node / 163] KILLING CLIENT INTERFACE NODE\n",
      "2020-05-15 10:46:09,333 [MainProcess ] [INFO ] [OPERATOR] [test_class.py / kill_client_interface / 173] KILLING CLIENT INTERFACE\n",
      "2020-05-15 10:46:09,333 [MainProcess ] [INFO ] [OPERATOR] [test_class.py / kill_node_servers / 183] KILLINGCLIENTS\n",
      "2020-05-15 10:46:12,468 [MainProcess ] [INFO ] [OPERATOR] [test_class.py / start_global_server / 337] STARTING UP GLOBAL SERVER\n",
      "2020-05-15 10:46:12,482 [MainProcess ] [INFO ] [OPERATOR] [test_class.py / start_node_servers / 225] STARTING UP NODES\n"
     ]
    },
    {
     "name": "stdout",
     "output_type": "stream",
     "text": [
      "the commandline is ['/home/schneebi/PycharmProjects/federated-learning/venv/bin/python', 'api/globalserver_task_controller.py', 'C88A33B946']\n",
      "the commandline is ['/home/schneebi/PycharmProjects/federated-learning/venv/bin/python', 'node_task_controller.py', 'c0', 'C88A33B946']\n",
      "the commandline is ['/home/schneebi/PycharmProjects/federated-learning/venv/bin/python', 'node_task_controller.py', 'c1', 'C88A33B946']\n"
     ]
    }
   ],
   "source": [
    "# Copyright 2019-2020, ETH Zurich, Media Technology Center\n",
    "#\n",
    "# This file is part of Federated Learning Project at MTC.\n",
    "#\n",
    "# Federated Learning is a free software: you can redistribute it and/or modify\n",
    "# it under the terms of the GNU Lesser Public License as published by\n",
    "# the Free Software Foundation, either version 3 of the License, or\n",
    "# (at your option) any later version.\n",
    "#\n",
    "# Federated Learning is distributed in the hope that it will be useful,\n",
    "# but WITHOUT ANY WARRANTY; without even the implied warranty of\n",
    "# MERCHANTABILITY or FITNESS FOR A PARTICULAR PURPOSE.  See the\n",
    "# GNU Lesser Public License for more details.\n",
    "#\n",
    "# You should have received a copy of the GNU Lesser Public License\n",
    "# along with Federated Learning.  If not, see <https://www.gnu.org/licenses/>.\n",
    "\"\"\"\n",
    "The Python implementation of the MTC Federated Learning Example Operator.\n",
    "\n",
    "This is an example how to use the Operator Class.\n",
    "\n",
    "Look at operator_class_db.py for all callable functions.\n",
    "\n",
    "The example creates a model and runs 10 rounds of send_model_to_nodes->training_on_nodes->\n",
    "send_back_to_server->aggregate_gradients_to_get_new_global_models\n",
    "\n",
    "\"\"\"\n",
    "import os\n",
    "\n",
    "import sys\n",
    "if os.getcwd().split('/')[-1]!=\"Federated-Learning\":\n",
    "    os.chdir('../..')\n",
    "print(os.getcwd())\n",
    "sys.path.append(os.getcwd())\n",
    "os.environ['STATIC_VARIABLES_FILE_PATH'] = \"globalserver/static_variables.json\"\n",
    "\n",
    "os.environ['PATH_TO_GLOBALSERVER'] = \"globalserver/api/\"\n",
    "import tensorflow as tf\n",
    "import xgboost as xgb\n",
    "import pandas as pd\n",
    "import logging\n",
    "from globalserver.operator_.operator_class_db import Operator\n",
    "from testing.test_class import Testing\n",
    "from globalserver.operator_.utils import operator_utils\n",
    "import json\n",
    "\n",
    "tf.keras.backend.clear_session()\n",
    "clients = ['r0', 'r1']\n",
    "TestSetup = Testing(clients, start_servers=True, clear_logs=True, clear_db=False, interface=False)\n",
    "\n"
   ]
  },
  {
   "cell_type": "code",
   "execution_count": 2,
   "metadata": {},
   "outputs": [],
   "source": [
    "specification = {\n",
    "    'n_features': 2,  # for given test data\n",
    "    'feature_information': {  # can list up categorical features and initialize them with False\n",
    "\n",
    "    },\n",
    "    'n_estimators': 2,  # number of trees in the final forest\n",
    "    'max_depth': 5,  # maximum depth parameter\n",
    "    'max_features': 2,  # maximum features to consider at each node for splitting\n",
    "    'max_bins': 20,  # maximum number of bins to use for continuous data in the histograms\n",
    "    'pos_label': 1,  # positive label in data\n",
    "    'neg_label': 0,  # negative label in data\n",
    "    'minimal_information_gain': 0.0,  # minimal information gain to not add a leaf\n",
    "    'metrics': ['log_loss'],\n",
    "    \"preprocessing\": {\n",
    "        \"noise\": {\n",
    "            \"epsilon\": 1,\n",
    "            \"delta\": 0.2\n",
    "        }\n",
    "    }\n",
    "}\n",
    "\n",
    "get_compiled_model_RF = operator_utils.RF_get_compiled_model"
   ]
  },
  {
   "cell_type": "code",
   "execution_count": 3,
   "metadata": {},
   "outputs": [],
   "source": [
    "setup_dict = {\"model_function\": {\n",
    "    \"function\": get_compiled_model_RF,\n",
    "    \"parameters\": specification,\n",
    "},\n",
    "    \"protocol\": 'RF',\n",
    "    \"model_name\": \"test_model\",\n",
    "    \"model_description\": \"this model is just to test the db\",\n",
    "    \"testing\": True,\n",
    "    \"training_config\": {\"differential_privacy\": \"data\",  # can be \"data\" or \"hist\"\n",
    "                        \"diff_p_epsilon\": 10.0,\n",
    "                        \"diff_p_delta\": 0.9,\n",
    "                        \"steps_per_epoch\": 1,\n",
    "                        \"batch_size\": 2000,\n",
    "                        \"dataset\": \"\",\n",
    "                        \"skmetrics\": [\"f1_score\", \"accuracy_score\"],\n",
    "                        \"tfmetrics\": [\"AUC\", \"Accuracy\"]},\n",
    "    \"rounds\": pow(2, (specification['max_depth'] + 1)) - 1,\n",
    "    \"round\": [\"fetch_model\", \"train_model\", \"send_model\", \"aggregate\"],\n",
    "    \"final_round\": [],\n",
    "    \"clients\": clients,\n",
    "    \"experiment_name\": \"kkbox\",\n",
    "    \"experiment_description\": f\"desc if nice experiment\",\n",
    "    \"preprocessing\": {\n",
    "        \"noise\": {\n",
    "            \"epsilon\": 1,\n",
    "            \"delta\": 0.2\n",
    "        },\n",
    "    }\n",
    "}"
   ]
  },
  {
   "cell_type": "markdown",
   "metadata": {},
   "source": [
    "Define one Experiment for each tree"
   ]
  },
  {
   "cell_type": "code",
   "execution_count": 4,
   "metadata": {},
   "outputs": [
    {
     "name": "stderr",
     "output_type": "stream",
     "text": [
      "2020-05-15 10:46:12,720 [MainProcess ] [DEBUG] [OPERATOR] [cmd.py / execute / 719] Popen(['git', 'version'], cwd=/home/schneebi/PycharmProjects/federated-learning/Federated-Learning, universal_newlines=False, shell=None, istream=None)\n",
      "2020-05-15 10:46:12,750 [MainProcess ] [DEBUG] [OPERATOR] [cmd.py / execute / 719] Popen(['git', 'version'], cwd=/home/schneebi/PycharmProjects/federated-learning/Federated-Learning, universal_newlines=False, shell=None, istream=None)\n",
      "2020-05-15 10:46:12,777 [MainProcess ] [DEBUG] [OPERATOR] [cmd.py / execute / 719] Popen(['git', 'cat-file', '--batch-check'], cwd=/home/schneebi/PycharmProjects/federated-learning/Federated-Learning, universal_newlines=False, shell=None, istream=<valid stream>)\n",
      "2020-05-15 10:46:12,955 [MainProcess ] [DEBUG] [OPERATOR] [cmd.py / execute / 719] Popen(['git', 'cat-file', '--batch-check'], cwd=/home/schneebi/PycharmProjects/federated-learning/Federated-Learning, universal_newlines=False, shell=None, istream=<valid stream>)\n"
     ]
    }
   ],
   "source": [
    "experiment_id_list = []\n",
    "operator_list = []\n",
    "for _ in range(specification['n_estimators']):\n",
    "    # it's important that each tree is specified individually!\n",
    "    # model_dict, empty_forest_dict = operator_utils.RF_get_compiled_model(specification)\n",
    "    operator_i = Operator()\n",
    "    operator_list.append(operator_i)\n",
    "    experiment_id = operator_i.setup_up_experiment_by_dict(setup_dict, additional_description='')\n",
    "    experiment_id_list.append(experiment_id)"
   ]
  },
  {
   "cell_type": "markdown",
   "metadata": {},
   "source": [
    "Start master experiment"
   ]
  },
  {
   "cell_type": "code",
   "execution_count": 5,
   "metadata": {},
   "outputs": [
    {
     "name": "stderr",
     "output_type": "stream",
     "text": [
      "2020-05-15 10:46:13,121 [MainProcess ] [DEBUG] [OPERATOR] [cmd.py / execute / 719] Popen(['git', 'cat-file', '--batch-check'], cwd=/home/schneebi/PycharmProjects/federated-learning/Federated-Learning, universal_newlines=False, shell=None, istream=<valid stream>)\n",
      "/home/schneebi/PycharmProjects/federated-learning/venv/lib/python3.6/site-packages/pymongo/topology.py:155: UserWarning: MongoClient opened before fork. Create MongoClient only after forking. See PyMongo's documentation for details: http://api.mongodb.org/python/current/faq.html#is-pymongo-fork-safe\n",
      "  \"MongoClient opened before fork. Create MongoClient only \"\n",
      "/home/schneebi/PycharmProjects/federated-learning/venv/lib/python3.6/site-packages/pymongo/topology.py:155: UserWarning: MongoClient opened before fork. Create MongoClient only after forking. See PyMongo's documentation for details: http://api.mongodb.org/python/current/faq.html#is-pymongo-fork-safe\n",
      "  \"MongoClient opened before fork. Create MongoClient only \"\n",
      "2020-05-15 10:46:13,218 [Process-1   ] [INFO ] [OPERATOR] [operator_class_db.py / start_experiment / 171] 5ebe56d49132fec233d06451\n",
      "2020-05-15 10:46:13,220 [Process-2   ] [INFO ] [OPERATOR] [operator_class_db.py / start_experiment / 171] 5ebe56d49132fec233d06551\n",
      "2020-05-15 10:46:13,221 [Process-1   ] [DEBUG] [OPERATOR] [operator_utils.py / get_current_task / 96] Working on {'task_id': ObjectId('5ebe56d49132fec233d06452'), 'task_order': 0, 'task_name': 'fetch_model', 'task_status': 'not_scheduled'}\n",
      "2020-05-15 10:46:13,224 [Process-2   ] [DEBUG] [OPERATOR] [operator_utils.py / get_current_task / 96] Working on {'task_id': ObjectId('5ebe56d49132fec233d06552'), 'task_order': 0, 'task_name': 'fetch_model', 'task_status': 'not_scheduled'}\n",
      "2020-05-15 10:46:26,271 [Process-1   ] [DEBUG] [OPERATOR] [operator_utils.py / get_current_task / 96] Working on {'task_id': ObjectId('5ebe56d49132fec233d06453'), 'task_order': 1, 'task_name': 'train_model', 'task_status': 'not_scheduled'}\n",
      "2020-05-15 10:46:26,278 [Process-2   ] [DEBUG] [OPERATOR] [operator_utils.py / get_current_task / 96] Working on {'task_id': ObjectId('5ebe56d49132fec233d06553'), 'task_order': 1, 'task_name': 'train_model', 'task_status': 'not_scheduled'}\n",
      "2020-05-15 10:46:35,395 [MainProcess ] [INFO ] [OPERATOR] [operator_class_db.py / start_experiment / 171] 5ebe56d59132fec233d06651\n",
      "2020-05-15 10:46:35,397 [MainProcess ] [DEBUG] [OPERATOR] [operator_utils.py / get_current_task / 96] Working on {'task_id': ObjectId('5ebe56d59132fec233d06652'), 'task_order': 0, 'task_name': 'fetch_model', 'task_status': 'not_scheduled'}\n",
      "2020-05-15 10:46:47,434 [MainProcess ] [DEBUG] [OPERATOR] [operator_utils.py / get_current_task / 96] Working on {'task_id': ObjectId('5ebe56d59132fec233d06653'), 'task_order': 1, 'task_name': 'send_training_loss', 'task_status': 'not_scheduled'}\n"
     ]
    },
    {
     "data": {
      "text/plain": [
       "True"
      ]
     },
     "execution_count": 5,
     "metadata": {},
     "output_type": "execute_result"
    }
   ],
   "source": [
    "\n",
    "operator = Operator()\n",
    "# initialize same for overhead process\n",
    "setup_dict['rounds']=0\n",
    "setup_dict['final_round']=[\"fetch_model\", \"send_training_loss\", \"send_validation_loss\", \"send_test_loss\"]\n",
    "experiment_id = operator.setup_up_experiment_by_dict(setup_dict, additional_description='')\n",
    "\n",
    "\"\"\"\n",
    "Overhead process:\n",
    "- constructs the whole random forest\n",
    "- after construction is finished, the losses from all agents get acquired and stored in the database\n",
    "\"\"\"\n",
    "# start experiment\n",
    "operator.start_experiments_RF(\n",
    "    experiment_id=experiment_id,\n",
    "    experiment_id_list=experiment_id_list,\n",
    "    operator_list=operator_list,\n",
    "    idle_time=1,\n",
    "    n_workers=1\n",
    ")"
   ]
  },
  {
   "cell_type": "code",
   "execution_count": null,
   "metadata": {},
   "outputs": [],
   "source": []
  }
 ],
 "metadata": {
  "kernelspec": {
   "display_name": "Python 3",
   "language": "python",
   "name": "python3"
  },
  "language_info": {
   "codemirror_mode": {
    "name": "ipython",
    "version": 3
   },
   "file_extension": ".py",
   "mimetype": "text/x-python",
   "name": "python",
   "nbconvert_exporter": "python",
   "pygments_lexer": "ipython3",
   "version": "3.6.9"
  }
 },
 "nbformat": 4,
 "nbformat_minor": 4
}
